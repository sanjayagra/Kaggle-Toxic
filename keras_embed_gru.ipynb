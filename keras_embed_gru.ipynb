{
 "cells": [
  {
   "cell_type": "code",
   "execution_count": null,
   "metadata": {},
   "outputs": [],
   "source": [
    "import numpy as np \n",
    "import pandas as pd\n",
    "from keras.models import Model\n",
    "from keras.layers import Dense, Embedding, Input, GRU\n",
    "from keras.layers import Conv1D, MaxPooling1D, GlobalMaxPool1D, Dropout, concatenate\n",
    "from keras.preprocessing import text, sequence\n",
    "\n",
    "from keras.callbacks import EarlyStopping, ModelCheckpoint\n",
    "import pandas as pd\n",
    "import numpy as np\n",
    "\n",
    "from keras.models import Sequential\n",
    "from keras.layers import Flatten\n",
    "from keras.optimizers import Adam\n",
    "import keras"
   ]
  },
  {
   "cell_type": "code",
   "execution_count": 2,
   "metadata": {},
   "outputs": [
    {
     "name": "stdout",
     "output_type": "stream",
     "text": [
      "(95851, 8) (226998, 2)\n"
     ]
    }
   ],
   "source": [
    "path = '/axp/rim/imsadsml/warehouse/sagra39/Kaggle/toxic/'\n",
    "train = pd.read_csv(path + 'train.csv')\n",
    "test = pd.read_csv(path + 'test.csv')\n",
    "print(train.shape, test.shape)"
   ]
  },
  {
   "cell_type": "code",
   "execution_count": 3,
   "metadata": {},
   "outputs": [],
   "source": [
    "list_sentences_train = train[\"comment_text\"].fillna(\"unknown\").values\n",
    "list_classes = [\"toxic\", \"severe_toxic\", \"obscene\", \"threat\", \"insult\", \"identity_hate\"]\n",
    "y = train[list_classes].values\n",
    "list_sentences_test = test[\"comment_text\"].fillna(\"unknown\").values"
   ]
  },
  {
   "cell_type": "code",
   "execution_count": 4,
   "metadata": {},
   "outputs": [],
   "source": [
    "max_features = 20000\n",
    "maxlen = 100"
   ]
  },
  {
   "cell_type": "code",
   "execution_count": 5,
   "metadata": {},
   "outputs": [],
   "source": [
    "tokenizer = text.Tokenizer(num_words=max_features)\n",
    "tokenizer.fit_on_texts(list(list_sentences_train))"
   ]
  },
  {
   "cell_type": "code",
   "execution_count": 6,
   "metadata": {},
   "outputs": [],
   "source": [
    "list_tokenized_train = tokenizer.texts_to_sequences(list_sentences_train)\n",
    "X_t = sequence.pad_sequences(list_tokenized_train, maxlen=maxlen)\n",
    "\n",
    "list_tokenized_test = tokenizer.texts_to_sequences(list_sentences_test)\n",
    "X_te = sequence.pad_sequences(list_tokenized_test, maxlen=maxlen)"
   ]
  },
  {
   "cell_type": "code",
   "execution_count": 7,
   "metadata": {},
   "outputs": [
    {
     "name": "stdout",
     "output_type": "stream",
     "text": [
      "Positive Labels \n",
      "0    86061\n",
      "1     3833\n",
      "3     2523\n",
      "2     2107\n",
      "4     1076\n",
      "5      231\n",
      "6       20\n",
      "dtype: int64\n",
      "Training: (76680, 100)\n",
      "Testing: (19171, 100)\n"
     ]
    }
   ],
   "source": [
    "from sklearn.model_selection import train_test_split\n",
    "\n",
    "print('Positive Labels ')\n",
    "any_category_positive = np.sum(y,1)\n",
    "print(pd.value_counts(any_category_positive))\n",
    "\n",
    "X_t_train, X_t_test, y_train, y_test = train_test_split(X_t, y,test_size = 0.20)\n",
    "print('Training:', X_t_train.shape)\n",
    "print('Testing:', X_t_test.shape)"
   ]
  },
  {
   "cell_type": "code",
   "execution_count": 26,
   "metadata": {},
   "outputs": [],
   "source": [
    "model = Sequential()\n",
    "model.add(Embedding(max_features, 256, input_length=maxlen))\n",
    "model.add(Dropout(0.2))\n",
    "model.add(Conv1D(filters=32, kernel_size=2, padding='same', activation='relu'))\n",
    "model.add(MaxPooling1D(pool_size=2))\n",
    "model.add(Dropout(0.2))\n",
    "model.add(Conv1D(filters=32, kernel_size=2, padding='same', activation='relu'))\n",
    "model.add(MaxPooling1D(pool_size=2))\n",
    "model.add(Dropout(0.2))\n",
    "model.add(GRU(32))\n",
    "model.add(Dense(16, activation=\"relu\"))\n",
    "model.add(Dense(6, activation='sigmoid'))"
   ]
  },
  {
   "cell_type": "code",
   "execution_count": 27,
   "metadata": {},
   "outputs": [],
   "source": [
    "Adam = keras.optimizers.Adam(lr=0.002)\n",
    "model.compile(optimizer='adam', loss='binary_crossentropy', metrics=['acc'])"
   ]
  },
  {
   "cell_type": "code",
   "execution_count": 28,
   "metadata": {},
   "outputs": [],
   "source": [
    "file_path=\"model_best.h5\"\n",
    "checkpoint = ModelCheckpoint(file_path, monitor='val_loss', verbose=1, save_best_only=True, mode='min')\n",
    "early = EarlyStopping(monitor=\"val_loss\", mode=\"min\", patience=20)\n",
    "\n",
    "callbacks_list = [checkpoint, early] #early"
   ]
  },
  {
   "cell_type": "code",
   "execution_count": 30,
   "metadata": {},
   "outputs": [
    {
     "name": "stdout",
     "output_type": "stream",
     "text": [
      "Train on 76680 samples, validate on 19171 samples\n",
      "Epoch 1/2\n",
      "364s - loss: 0.0425 - acc: 0.9839 - val_loss: 0.0533 - val_acc: 0.9804\n",
      "Epoch 2/2\n",
      "361s - loss: 0.0379 - acc: 0.9853 - val_loss: 0.0559 - val_acc: 0.9812\n"
     ]
    }
   ],
   "source": [
    "model.fit(X_t_train, y_train,\n",
    "          validation_data=(X_t_test, y_test),\n",
    "          batch_size=50,\n",
    "          epochs=2,\n",
    "          shuffle = True,\n",
    "          verbose=2)\n",
    "model.save('Whole_model.h5')"
   ]
  },
  {
   "cell_type": "code",
   "execution_count": 32,
   "metadata": {},
   "outputs": [],
   "source": [
    "y_test = model.predict(X_te)\n",
    "sample_submission = pd.read_csv(path + \"sample_submission.csv\")\n",
    "sample_submission[list_classes] = y_test\n",
    "sample_submission.to_csv(path + \"Keras_embedding_layer4.csv\", index=False)"
   ]
  },
  {
   "cell_type": "markdown",
   "metadata": {},
   "source": [
    "## Ensemble"
   ]
  },
  {
   "cell_type": "code",
   "execution_count": 42,
   "metadata": {},
   "outputs": [],
   "source": [
    "path_new = '/axp/rim/imsadsml/warehouse/sagra39/Kaggle/toxic/'\n",
    "import pandas as pd\n",
    "import numpy as np\n",
    "\n",
    "file1 = pd.read_csv(path_new + 'Keras_embedding_layer1.csv')\n",
    "file2 = pd.read_csv(path_new + 'Keras_embedding_layer2.csv')\n",
    "# file3 = pd.read_csv(path_new + 'sub01445.csv')\n",
    "# file4 = pd.read_csv(path_new + 'vgg16.csv')\n",
    "\n",
    "\n",
    "file1.columns = ['id','toxic_x','severe_toxic_x','obscene_x','threat_x','insult_x','identity_hate_x']\n",
    "file2.columns = ['id','toxic_y','severe_toxic_y','obscene_y','threat_y','insult_y','identity_hate_y']\n",
    "# file3.columns = ['id','target_z']\n",
    "# file4.columns = ['id','target_w']"
   ]
  },
  {
   "cell_type": "code",
   "execution_count": 43,
   "metadata": {},
   "outputs": [],
   "source": [
    "concat_sub = file1.merge(file2, on='id', how='inner')"
   ]
  },
  {
   "cell_type": "code",
   "execution_count": 50,
   "metadata": {},
   "outputs": [
    {
     "data": {
      "text/html": [
       "<div>\n",
       "<style scoped>\n",
       "    .dataframe tbody tr th:only-of-type {\n",
       "        vertical-align: middle;\n",
       "    }\n",
       "\n",
       "    .dataframe tbody tr th {\n",
       "        vertical-align: top;\n",
       "    }\n",
       "\n",
       "    .dataframe thead th {\n",
       "        text-align: right;\n",
       "    }\n",
       "</style>\n",
       "<table border=\"1\" class=\"dataframe\">\n",
       "  <thead>\n",
       "    <tr style=\"text-align: right;\">\n",
       "      <th></th>\n",
       "      <th>id</th>\n",
       "      <th>toxic_x</th>\n",
       "      <th>severe_toxic_x</th>\n",
       "      <th>obscene_x</th>\n",
       "      <th>threat_x</th>\n",
       "      <th>insult_x</th>\n",
       "      <th>identity_hate_x</th>\n",
       "      <th>toxic_y</th>\n",
       "      <th>severe_toxic_y</th>\n",
       "      <th>obscene_y</th>\n",
       "      <th>...</th>\n",
       "      <th>identity_hate_max</th>\n",
       "      <th>identity_hate_min</th>\n",
       "      <th>identity_hate_mean</th>\n",
       "      <th>identity_hate_median</th>\n",
       "      <th>toxic</th>\n",
       "      <th>severe_toxic</th>\n",
       "      <th>obscene</th>\n",
       "      <th>threat</th>\n",
       "      <th>insult</th>\n",
       "      <th>identity_hate</th>\n",
       "    </tr>\n",
       "  </thead>\n",
       "  <tbody>\n",
       "    <tr>\n",
       "      <th>0</th>\n",
       "      <td>6044863</td>\n",
       "      <td>1.056884e-07</td>\n",
       "      <td>5.296963e-06</td>\n",
       "      <td>2.052770e-06</td>\n",
       "      <td>2.785412e-07</td>\n",
       "      <td>2.059524e-07</td>\n",
       "      <td>1.182304e-07</td>\n",
       "      <td>0.008709</td>\n",
       "      <td>0.000177</td>\n",
       "      <td>0.002443</td>\n",
       "      <td>...</td>\n",
       "      <td>0.001094</td>\n",
       "      <td>0.001094</td>\n",
       "      <td>0.001094</td>\n",
       "      <td>0.001094</td>\n",
       "      <td>0.008709</td>\n",
       "      <td>0.000177</td>\n",
       "      <td>0.002443</td>\n",
       "      <td>0.000854</td>\n",
       "      <td>0.001551</td>\n",
       "      <td>0.001094</td>\n",
       "    </tr>\n",
       "    <tr>\n",
       "      <th>1</th>\n",
       "      <td>6102620</td>\n",
       "      <td>2.670524e-08</td>\n",
       "      <td>8.424707e-07</td>\n",
       "      <td>3.014423e-08</td>\n",
       "      <td>2.420733e-07</td>\n",
       "      <td>4.095454e-08</td>\n",
       "      <td>1.403654e-07</td>\n",
       "      <td>0.000811</td>\n",
       "      <td>0.000007</td>\n",
       "      <td>0.000186</td>\n",
       "      <td>...</td>\n",
       "      <td>0.000048</td>\n",
       "      <td>0.000048</td>\n",
       "      <td>0.000048</td>\n",
       "      <td>0.000048</td>\n",
       "      <td>0.000811</td>\n",
       "      <td>0.000007</td>\n",
       "      <td>0.000186</td>\n",
       "      <td>0.000021</td>\n",
       "      <td>0.000096</td>\n",
       "      <td>0.000048</td>\n",
       "    </tr>\n",
       "  </tbody>\n",
       "</table>\n",
       "<p>2 rows × 43 columns</p>\n",
       "</div>"
      ],
      "text/plain": [
       "        id       toxic_x  severe_toxic_x     obscene_x      threat_x  \\\n",
       "0  6044863  1.056884e-07    5.296963e-06  2.052770e-06  2.785412e-07   \n",
       "1  6102620  2.670524e-08    8.424707e-07  3.014423e-08  2.420733e-07   \n",
       "\n",
       "       insult_x  identity_hate_x   toxic_y  severe_toxic_y  obscene_y  \\\n",
       "0  2.059524e-07     1.182304e-07  0.008709        0.000177   0.002443   \n",
       "1  4.095454e-08     1.403654e-07  0.000811        0.000007   0.000186   \n",
       "\n",
       "       ...        identity_hate_max  identity_hate_min  identity_hate_mean  \\\n",
       "0      ...                 0.001094           0.001094            0.001094   \n",
       "1      ...                 0.000048           0.000048            0.000048   \n",
       "\n",
       "   identity_hate_median     toxic  severe_toxic   obscene    threat    insult  \\\n",
       "0              0.001094  0.008709      0.000177  0.002443  0.000854  0.001551   \n",
       "1              0.000048  0.000811      0.000007  0.000186  0.000021  0.000096   \n",
       "\n",
       "   identity_hate  \n",
       "0       0.001094  \n",
       "1       0.000048  \n",
       "\n",
       "[2 rows x 43 columns]"
      ]
     },
     "execution_count": 50,
     "metadata": {},
     "output_type": "execute_result"
    }
   ],
   "source": [
    "concat_sub.head(2)"
   ]
  },
  {
   "cell_type": "code",
   "execution_count": 45,
   "metadata": {},
   "outputs": [],
   "source": [
    "toxic_set=[]\n",
    "severe_toxic_set=[]\n",
    "obscene_set=[]\n",
    "threat_set=[]\n",
    "insult_set=[]\n",
    "identity_hate_set=[]\n",
    "for i in concat_sub.columns:\n",
    "    if i[:5]=='toxic':\n",
    "        toxic_set.append(i)\n",
    "    if i[:12]=='severe_toxic':\n",
    "        severe_toxic_set.append(i)\n",
    "    if i[:7]=='obscene':\n",
    "        obscene_set.append(i)\n",
    "    if i[:6]=='threat':\n",
    "        threat_set.append(i)\n",
    "    if i[:6]=='insult':\n",
    "        insult_set.append(i)\n",
    "    if i[:13]=='identity_hate':\n",
    "        identity_hate_set.append(i)\n",
    "        \n",
    "# print(toxic_set, severe_toxic_set, obscene_set, threat_set, insult_set, identity_hate_set)"
   ]
  },
  {
   "cell_type": "code",
   "execution_count": 46,
   "metadata": {},
   "outputs": [],
   "source": [
    "models = 3\n",
    "set = (toxic_set, severe_toxic_set, obscene_set, threat_set, insult_set, identity_hate_set)\n",
    "for i in set:\n",
    "    concat_sub[i[0][:-2]+'_max'] = concat_sub[i].iloc[:, 1:models].max(axis=1)\n",
    "    concat_sub[i[0][:-2]+'_min'] = concat_sub[i].iloc[:, 1:models].min(axis=1)\n",
    "    concat_sub[i[0][:-2]+'_mean'] = concat_sub[i].iloc[:, 1:models].mean(axis=1)\n",
    "    concat_sub[i[0][:-2]+'_median'] = concat_sub[i].iloc[:, 1:models].median(axis=1)"
   ]
  },
  {
   "cell_type": "code",
   "execution_count": 48,
   "metadata": {},
   "outputs": [],
   "source": [
    "cutoff_lo = 0.8\n",
    "cutoff_hi = 0.2"
   ]
  },
  {
   "cell_type": "code",
   "execution_count": 49,
   "metadata": {},
   "outputs": [],
   "source": [
    "for i in set:\n",
    "    concat_sub[i[0][:-2]] = np.where(np.all(concat_sub[i].iloc[:,1:models] > cutoff_lo, axis=1), \n",
    "                                   concat_sub[i[0][:-2]+'_max'],\n",
    "                                   np.where(np.all(concat_sub[i].iloc[:,1:models] < cutoff_hi, axis=1),\n",
    "                                            concat_sub[i[0][:-2]+'_min'],\n",
    "                                            concat_sub[i[0][:-2]+'_median']))"
   ]
  },
  {
   "cell_type": "code",
   "execution_count": 51,
   "metadata": {},
   "outputs": [],
   "source": [
    "final_columns = ['id','toxic','severe_toxic','obscene','threat','insult','identity_hate']\n",
    "concat_sub[final_columns].to_csv(path_new + 'layer1_layer2_stacking.csv', index=False)"
   ]
  },
  {
   "cell_type": "code",
   "execution_count": null,
   "metadata": {},
   "outputs": [],
   "source": []
  }
 ],
 "metadata": {
  "kernelspec": {
   "display_name": "Python 3",
   "language": "python",
   "name": "python3"
  },
  "language_info": {
   "codemirror_mode": {
    "name": "ipython",
    "version": 3
   },
   "file_extension": ".py",
   "mimetype": "text/x-python",
   "name": "python",
   "nbconvert_exporter": "python",
   "pygments_lexer": "ipython3",
   "version": "3.5.3"
  }
 },
 "nbformat": 4,
 "nbformat_minor": 2
}
