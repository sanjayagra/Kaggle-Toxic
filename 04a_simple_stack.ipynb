{
 "cells": [
  {
   "cell_type": "code",
   "execution_count": 1,
   "metadata": {},
   "outputs": [],
   "source": [
    "import pandas as pd\n",
    "import numpy as np\n",
    "from sklearn.metrics import roc_curve, auc\n",
    "pd.options.mode.chained_assignment = None"
   ]
  },
  {
   "cell_type": "markdown",
   "metadata": {},
   "source": [
    "### datasets"
   ]
  },
  {
   "cell_type": "code",
   "execution_count": 2,
   "metadata": {},
   "outputs": [
    {
     "name": "stdout",
     "output_type": "stream",
     "text": [
      "train_data: (159571, 18) (159571, 6)\n"
     ]
    }
   ],
   "source": [
    "train_score_1 = pd.read_csv('../data/model/baseline_1.csv')\n",
    "train_score_1.columns = [train_score_1.columns[0]] + ['m1_' + x for x in train_score_1.columns[1:]]\n",
    "train_score_2 = pd.read_csv('../data/model/baseline_2.csv')\n",
    "train_score_2.columns = [train_score_2.columns[0]] + ['m2_' + x for x in train_score_2.columns[1:]]\n",
    "train_score_3 = pd.read_csv('../data/model/baseline_3.csv')\n",
    "train_score_3.columns = [train_score_2.columns[0]] + ['m3_' + x for x in train_score_3.columns[1:]]\n",
    "train_labels = pd.read_csv('../data/download/train.csv').drop('comment_text', axis=1)\n",
    "train_data = train_score_1.merge(train_score_2, on='id').merge(train_score_3, on='id')\n",
    "train_labels = train_labels.sort_values(by='id').reset_index(drop=True)\n",
    "train_ids = train_labels[['id']].copy()\n",
    "train_data = train_data.drop('id', axis=1)\n",
    "train_labels = train_labels.drop('id', axis=1)\n",
    "print('train_data:', train_data.shape, train_labels.shape)\n",
    "del train_score_1, train_score_2"
   ]
  },
  {
   "cell_type": "code",
   "execution_count": 3,
   "metadata": {},
   "outputs": [
    {
     "name": "stdout",
     "output_type": "stream",
     "text": [
      "test_data: (153164, 18)\n"
     ]
    }
   ],
   "source": [
    "test_score_1 = pd.read_csv('../data/submit/baseline_1.csv')\n",
    "test_score_1.columns = [test_score_1.columns[0]] + ['m1_' + x for x in test_score_1.columns[1:]]\n",
    "test_score_2 = pd.read_csv('../data/submit/baseline_2.csv')\n",
    "test_score_2.columns = [test_score_2.columns[0]] + ['m2_' + x for x in test_score_2.columns[1:]]\n",
    "test_score_3 = pd.read_csv('../data/submit/baseline_3.csv')\n",
    "test_score_3.columns = [test_score_2.columns[0]] + ['m3_' + x for x in test_score_3.columns[1:]]\n",
    "test_data = test_score_1.merge(test_score_2, on='id').merge(test_score_3, on='id')\n",
    "test_ids = test_data[['id']].copy()\n",
    "test_data = test_data.drop('id', axis=1)\n",
    "print('test_data:', test_data.shape)\n",
    "del test_score_1, test_score_2"
   ]
  },
  {
   "cell_type": "markdown",
   "metadata": {},
   "source": [
    "### model"
   ]
  },
  {
   "cell_type": "code",
   "execution_count": 4,
   "metadata": {},
   "outputs": [],
   "source": [
    "def eval_metric(labels, predict):\n",
    "    fpr, tpr, threshold = roc_curve(labels, predict)\n",
    "    return round(auc(fpr, tpr),4)\n",
    "    \n",
    "def model(label):\n",
    "    feats = ['m1_' + label, 'm2_' + label, 'm3_' + label]\n",
    "    scores = train_data[feats]\n",
    "    scores[label] = scores.apply(lambda x : np.mean(x), axis=1)\n",
    "    labels = train_labels[label]\n",
    "    print('auc:', eval_metric(labels,scores[label]))\n",
    "    scores = test_data[feats]\n",
    "    scores[label] = scores.apply(lambda x : np.mean(x), axis=1)\n",
    "    submit = test_ids.copy()\n",
    "    submit[label] = scores[label].copy()\n",
    "    return submit"
   ]
  },
  {
   "cell_type": "code",
   "execution_count": 5,
   "metadata": {},
   "outputs": [
    {
     "name": "stdout",
     "output_type": "stream",
     "text": [
      "auc: 0.9821\n",
      "auc: 0.9904\n",
      "auc: 0.991\n",
      "auc: 0.9916\n",
      "auc: 0.9867\n",
      "auc: 0.9854\n"
     ]
    }
   ],
   "source": [
    "toxic = model('toxic')\n",
    "severe_toxic = model('severe_toxic')\n",
    "obscene = model('obscene')\n",
    "threat = model('threat')\n",
    "insult = model('insult')\n",
    "identity_hate = model('identity_hate')"
   ]
  },
  {
   "cell_type": "code",
   "execution_count": 6,
   "metadata": {},
   "outputs": [],
   "source": [
    "submit = toxic.copy()\n",
    "submit = submit.merge(severe_toxic, on='id')\n",
    "submit = submit.merge(obscene, on='id')\n",
    "submit = submit.merge(threat, on='id')\n",
    "submit = submit.merge(insult, on='id')\n",
    "submit = submit.merge(identity_hate, on='id')"
   ]
  },
  {
   "cell_type": "code",
   "execution_count": 7,
   "metadata": {},
   "outputs": [
    {
     "data": {
      "text/html": [
       "<div>\n",
       "<style scoped>\n",
       "    .dataframe tbody tr th:only-of-type {\n",
       "        vertical-align: middle;\n",
       "    }\n",
       "\n",
       "    .dataframe tbody tr th {\n",
       "        vertical-align: top;\n",
       "    }\n",
       "\n",
       "    .dataframe thead th {\n",
       "        text-align: right;\n",
       "    }\n",
       "</style>\n",
       "<table border=\"1\" class=\"dataframe\">\n",
       "  <thead>\n",
       "    <tr style=\"text-align: right;\">\n",
       "      <th></th>\n",
       "      <th>id</th>\n",
       "      <th>toxic</th>\n",
       "      <th>severe_toxic</th>\n",
       "      <th>obscene</th>\n",
       "      <th>threat</th>\n",
       "      <th>insult</th>\n",
       "      <th>identity_hate</th>\n",
       "    </tr>\n",
       "  </thead>\n",
       "  <tbody>\n",
       "    <tr>\n",
       "      <th>0</th>\n",
       "      <td>00001cee341fdb12</td>\n",
       "      <td>0.993498</td>\n",
       "      <td>0.422500</td>\n",
       "      <td>0.951626</td>\n",
       "      <td>0.168819</td>\n",
       "      <td>0.913571</td>\n",
       "      <td>0.625295</td>\n",
       "    </tr>\n",
       "    <tr>\n",
       "      <th>1</th>\n",
       "      <td>0000247867823ef7</td>\n",
       "      <td>0.000543</td>\n",
       "      <td>0.000005</td>\n",
       "      <td>0.000140</td>\n",
       "      <td>0.000004</td>\n",
       "      <td>0.000086</td>\n",
       "      <td>0.000012</td>\n",
       "    </tr>\n",
       "    <tr>\n",
       "      <th>2</th>\n",
       "      <td>00013b17ad220c46</td>\n",
       "      <td>0.001079</td>\n",
       "      <td>0.000039</td>\n",
       "      <td>0.000668</td>\n",
       "      <td>0.000009</td>\n",
       "      <td>0.000276</td>\n",
       "      <td>0.000072</td>\n",
       "    </tr>\n",
       "    <tr>\n",
       "      <th>3</th>\n",
       "      <td>00017563c3f7919a</td>\n",
       "      <td>0.000177</td>\n",
       "      <td>0.000002</td>\n",
       "      <td>0.000059</td>\n",
       "      <td>0.000008</td>\n",
       "      <td>0.000060</td>\n",
       "      <td>0.000007</td>\n",
       "    </tr>\n",
       "    <tr>\n",
       "      <th>4</th>\n",
       "      <td>00017695ad8997eb</td>\n",
       "      <td>0.003841</td>\n",
       "      <td>0.000063</td>\n",
       "      <td>0.000889</td>\n",
       "      <td>0.000060</td>\n",
       "      <td>0.000378</td>\n",
       "      <td>0.000056</td>\n",
       "    </tr>\n",
       "  </tbody>\n",
       "</table>\n",
       "</div>"
      ],
      "text/plain": [
       "                 id     toxic  severe_toxic   obscene    threat    insult  \\\n",
       "0  00001cee341fdb12  0.993498      0.422500  0.951626  0.168819  0.913571   \n",
       "1  0000247867823ef7  0.000543      0.000005  0.000140  0.000004  0.000086   \n",
       "2  00013b17ad220c46  0.001079      0.000039  0.000668  0.000009  0.000276   \n",
       "3  00017563c3f7919a  0.000177      0.000002  0.000059  0.000008  0.000060   \n",
       "4  00017695ad8997eb  0.003841      0.000063  0.000889  0.000060  0.000378   \n",
       "\n",
       "   identity_hate  \n",
       "0       0.625295  \n",
       "1       0.000012  \n",
       "2       0.000072  \n",
       "3       0.000007  \n",
       "4       0.000056  "
      ]
     },
     "execution_count": 7,
     "metadata": {},
     "output_type": "execute_result"
    }
   ],
   "source": [
    "submit.head()"
   ]
  },
  {
   "cell_type": "code",
   "execution_count": 8,
   "metadata": {},
   "outputs": [],
   "source": [
    "submit.to_csv('../data/submit/baseline_4.csv', index=False)"
   ]
  },
  {
   "cell_type": "code",
   "execution_count": 9,
   "metadata": {},
   "outputs": [
    {
     "data": {
      "text/plain": [
       "0.9878666666666667"
      ]
     },
     "execution_count": 9,
     "metadata": {},
     "output_type": "execute_result"
    }
   ],
   "source": [
    "(0.9821 + 0.9904 + 0.991 + 0.9916 + 0.9867 + 0.9854) / 6"
   ]
  },
  {
   "cell_type": "code",
   "execution_count": null,
   "metadata": {},
   "outputs": [],
   "source": []
  }
 ],
 "metadata": {
  "kernelspec": {
   "display_name": "Python 3",
   "language": "python",
   "name": "python3"
  },
  "language_info": {
   "codemirror_mode": {
    "name": "ipython",
    "version": 3
   },
   "file_extension": ".py",
   "mimetype": "text/x-python",
   "name": "python",
   "nbconvert_exporter": "python",
   "pygments_lexer": "ipython3",
   "version": "3.6.3"
  }
 },
 "nbformat": 4,
 "nbformat_minor": 2
}
