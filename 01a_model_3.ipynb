{
 "cells": [
  {
   "cell_type": "code",
   "execution_count": 1,
   "metadata": {},
   "outputs": [
    {
     "name": "stderr",
     "output_type": "stream",
     "text": [
      "Using TensorFlow backend.\n",
      "/home/ubuntu/anaconda3/envs/tensorflow_p36/lib/python3.6/importlib/_bootstrap.py:219: RuntimeWarning: compiletime version 3.5 of module 'tensorflow.python.framework.fast_tensor_util' does not match runtime version 3.6\n",
      "  return f(*args, **kwds)\n"
     ]
    }
   ],
   "source": [
    "import pandas as pd\n",
    "import numpy as np\n",
    "import re\n",
    "from keras.layers import Dense, Dropout, GRU, Embedding, TimeDistributed, Flatten\n",
    "from keras.layers import Input, Activation, concatenate, GlobalAveragePooling1D\n",
    "from keras.layers import LSTM, Bidirectional, GlobalMaxPooling1D, Dropout\n",
    "from keras.layers import RepeatVector, Permute, merge, Lambda\n",
    "from keras.layers.normalization import BatchNormalization\n",
    "from keras.models import Model\n",
    "from keras.optimizers import Adam, RMSprop\n",
    "from keras.callbacks import ModelCheckpoint, CSVLogger, EarlyStopping, ReduceLROnPlateau\n",
    "from keras.utils import np_utils, get_custom_objects\n",
    "from keras.preprocessing import text, sequence\n",
    "from string import ascii_letters, punctuation, digits\n",
    "from keras import backend as K\n",
    "from keras.engine.topology import Layer\n",
    "from keras import initializers, regularizers, constraints\n",
    "\n",
    "def swish(x):\n",
    "    return (K.sigmoid(x) * x)\n",
    "\n",
    "get_custom_objects().update({'swish': Activation(swish)})\n",
    "\n",
    "SEQ_LENGTH = 100\n",
    "EMBED_SIZE = 100\n",
    "VOCAB = 238590\n",
    "np.random.seed(2017)"
   ]
  },
  {
   "cell_type": "markdown",
   "metadata": {},
   "source": [
    "### model"
   ]
  },
  {
   "cell_type": "code",
   "execution_count": 2,
   "metadata": {},
   "outputs": [],
   "source": [
    "def define_model(matrix):\n",
    "    rnn = {}\n",
    "    rnn['units'] = 50\n",
    "    rnn['return_sequences'] = True\n",
    "    rnn['recurrent_dropout'] = 0.2\n",
    "    rnn['dropout'] = 0.1\n",
    "    rnn['activation'] = 'tanh'\n",
    "    inputs = Input(shape=(SEQ_LENGTH,), name='sequence')\n",
    "    embed = Embedding(VOCAB,EMBED_SIZE, weights=[matrix], trainable=False)(inputs)\n",
    "    lstm = GRU(**rnn)(embed)\n",
    "    atten = TimeDistributed(Dense(1, activation='tanh'))(lstm)\n",
    "    atten = Flatten()(atten)\n",
    "    atten = Activation('softmax')(atten)\n",
    "    atten = RepeatVector(rnn['units'])(atten)\n",
    "    atten = Permute([2, 1])(atten)\n",
    "    dense = merge([lstm, atten], mode='mul')\n",
    "    dense = Lambda(lambda xin: K.sum(xin, axis=1))(dense)\n",
    "    dense = BatchNormalization()(dense)\n",
    "    dense = Dense(200, activation='swish')(dense)\n",
    "    dense = Dropout(0.2)(dense)\n",
    "    predict = Dense(6, activation='sigmoid')(dense)\n",
    "    model = Model(inputs=[inputs], output=predict)\n",
    "    optimizer = Adam(lr=1e-3)\n",
    "    model.compile(loss='binary_crossentropy', optimizer=optimizer, metrics=['accuracy'])\n",
    "    return model"
   ]
  },
  {
   "cell_type": "markdown",
   "metadata": {},
   "source": [
    "### generator"
   ]
  },
  {
   "cell_type": "code",
   "execution_count": 3,
   "metadata": {},
   "outputs": [
    {
     "name": "stdout",
     "output_type": "stream",
     "text": [
      "Found 93651 word vectors.\n"
     ]
    }
   ],
   "source": [
    "embeddings_index = {}\n",
    "\n",
    "f = open('../data/data/fasttext/vector.vec')\n",
    "\n",
    "for line in f:\n",
    "    try:\n",
    "        values = line.split()\n",
    "        word = values[0]\n",
    "        coefs = np.asarray(values[1:], dtype='float32')\n",
    "        embeddings_index[word] = coefs\n",
    "    except:\n",
    "        print(values[0])\n",
    "f.close()\n",
    "\n",
    "print('Found %s word vectors.' % len(embeddings_index))"
   ]
  },
  {
   "cell_type": "code",
   "execution_count": 4,
   "metadata": {},
   "outputs": [],
   "source": [
    "def dataflow(train_text, valid_text):\n",
    "    train_text['comment_text'] = train_text['comment_text'].fillna('nan')\n",
    "    valid_text['comment_text'] = valid_text['comment_text'].fillna('nan')\n",
    "    train_text = list(train_text['comment_text'].values)\n",
    "    valid_text = list(valid_text['comment_text'].values)\n",
    "    tokenizer = text.Tokenizer(lower=True, char_level=False, num_words=100000)\n",
    "    tokenizer.fit_on_texts(train_text + valid_text)\n",
    "    word_index = tokenizer.word_index\n",
    "    print('total words:', len(word_index))\n",
    "    intersect = 0\n",
    "    embedding_matrix = np.zeros((len(word_index) + 1, EMBED_SIZE))\n",
    "    for word, i in word_index.items():\n",
    "        embedding_vector = embeddings_index.get(word)\n",
    "        if embedding_vector is not None:\n",
    "            embedding_matrix[i] = embedding_vector\n",
    "            intersect += 1\n",
    "    print('common words:', intersect)\n",
    "    train_token = tokenizer.texts_to_sequences(train_text)\n",
    "    valid_token = tokenizer.texts_to_sequences(valid_text)\n",
    "    train_seq = sequence.pad_sequences(train_token, maxlen=SEQ_LENGTH)\n",
    "    valid_seq = sequence.pad_sequences(valid_token, maxlen=SEQ_LENGTH)\n",
    "    return train_seq, valid_seq, embedding_matrix\n",
    "\n",
    "def callbacks(suffix):\n",
    "    stop = EarlyStopping('val_loss', patience=5, mode=\"min\")\n",
    "    path = '../data/data/source_1/model_3/model_{}.hdf5'.format(suffix)\n",
    "    save = ModelCheckpoint(path, save_best_only=True, save_weights_only=True)\n",
    "    logger = CSVLogger('../data/data/source_1/model_3/logger_{}.log'.format(suffix))\n",
    "    reduce = ReduceLROnPlateau(monitor='val_loss', factor=0.25, patience=2, verbose=0, mode='min')\n",
    "    return [stop, save, reduce, logger]"
   ]
  },
  {
   "cell_type": "markdown",
   "metadata": {},
   "source": [
    "### data : fold - 1"
   ]
  },
  {
   "cell_type": "code",
   "execution_count": 5,
   "metadata": {},
   "outputs": [
    {
     "name": "stdout",
     "output_type": "stream",
     "text": [
      "total words: 238589\n",
      "common words: 88118\n"
     ]
    },
    {
     "name": "stderr",
     "output_type": "stream",
     "text": [
      "/home/ubuntu/anaconda3/envs/tensorflow_p36/lib/python3.6/site-packages/ipykernel/__main__.py:16: UserWarning: The `merge` function is deprecated and will be removed after 08/2017. Use instead layers from `keras.layers.merge`, e.g. `add`, `concatenate`, etc.\n",
      "/home/ubuntu/anaconda3/envs/tensorflow_p36/lib/python3.6/site-packages/keras/legacy/layers.py:458: UserWarning: The `Merge` layer is deprecated and will be removed after 08/2017. Use instead layers from `keras.layers.merge`, e.g. `add`, `concatenate`, etc.\n",
      "  name=name)\n",
      "/home/ubuntu/anaconda3/envs/tensorflow_p36/lib/python3.6/site-packages/ipykernel/__main__.py:22: UserWarning: Update your `Model` call to the Keras 2 API: `Model(inputs=[<tf.Tenso..., outputs=Tensor(\"de...)`\n"
     ]
    },
    {
     "name": "stdout",
     "output_type": "stream",
     "text": [
      "Train on 127656 samples, validate on 31915 samples\n",
      "Epoch 1/30\n",
      "127656/127656 [==============================] - 75s 586us/step - loss: 0.1305 - acc: 0.9621 - val_loss: 0.0943 - val_acc: 0.9717\n",
      "Epoch 2/30\n",
      "127656/127656 [==============================] - 73s 570us/step - loss: 0.0607 - acc: 0.9784 - val_loss: 0.0498 - val_acc: 0.9814\n",
      "Epoch 3/30\n",
      "127656/127656 [==============================] - 73s 575us/step - loss: 0.0530 - acc: 0.9806 - val_loss: 0.0485 - val_acc: 0.9818\n",
      "Epoch 4/30\n",
      "127656/127656 [==============================] - 73s 574us/step - loss: 0.0506 - acc: 0.9813 - val_loss: 0.0458 - val_acc: 0.9825\n",
      "Epoch 5/30\n",
      "127656/127656 [==============================] - 74s 580us/step - loss: 0.0492 - acc: 0.9817 - val_loss: 0.0446 - val_acc: 0.9830\n",
      "Epoch 6/30\n",
      "127656/127656 [==============================] - 72s 568us/step - loss: 0.0481 - acc: 0.9819 - val_loss: 0.0446 - val_acc: 0.9831\n",
      "Epoch 7/30\n",
      "127656/127656 [==============================] - 72s 564us/step - loss: 0.0469 - acc: 0.9824 - val_loss: 0.0436 - val_acc: 0.9833\n",
      "Epoch 8/30\n",
      "127656/127656 [==============================] - 73s 575us/step - loss: 0.0461 - acc: 0.9825 - val_loss: 0.0434 - val_acc: 0.9835\n",
      "Epoch 9/30\n",
      "127656/127656 [==============================] - 67s 525us/step - loss: 0.0455 - acc: 0.9828 - val_loss: 0.0439 - val_acc: 0.9834\n",
      "Epoch 10/30\n",
      "127656/127656 [==============================] - 72s 566us/step - loss: 0.0448 - acc: 0.9829 - val_loss: 0.0424 - val_acc: 0.9837\n",
      "Epoch 11/30\n",
      "127656/127656 [==============================] - 71s 559us/step - loss: 0.0444 - acc: 0.9832 - val_loss: 0.0423 - val_acc: 0.9837\n",
      "Epoch 12/30\n",
      "127656/127656 [==============================] - 73s 572us/step - loss: 0.0439 - acc: 0.9834 - val_loss: 0.0422 - val_acc: 0.9840\n",
      "Epoch 13/30\n",
      "127656/127656 [==============================] - 73s 572us/step - loss: 0.0434 - acc: 0.9834 - val_loss: 0.0417 - val_acc: 0.9837\n",
      "Epoch 14/30\n",
      "127656/127656 [==============================] - 67s 524us/step - loss: 0.0431 - acc: 0.9836 - val_loss: 0.0418 - val_acc: 0.9838\n",
      "Epoch 15/30\n",
      "127656/127656 [==============================] - 71s 559us/step - loss: 0.0426 - acc: 0.9838 - val_loss: 0.0416 - val_acc: 0.9837\n",
      "Epoch 16/30\n",
      "127656/127656 [==============================] - 67s 524us/step - loss: 0.0422 - acc: 0.9839 - val_loss: 0.0433 - val_acc: 0.9835\n",
      "Epoch 17/30\n",
      "127656/127656 [==============================] - 72s 563us/step - loss: 0.0420 - acc: 0.9839 - val_loss: 0.0412 - val_acc: 0.9841\n",
      "Epoch 18/30\n",
      "127656/127656 [==============================] - 67s 525us/step - loss: 0.0416 - acc: 0.9841 - val_loss: 0.0412 - val_acc: 0.9840\n",
      "Epoch 19/30\n",
      "127656/127656 [==============================] - 67s 524us/step - loss: 0.0412 - acc: 0.9841 - val_loss: 0.0413 - val_acc: 0.9840\n",
      "Epoch 20/30\n",
      "127656/127656 [==============================] - 67s 525us/step - loss: 0.0411 - acc: 0.9842 - val_loss: 0.0412 - val_acc: 0.9841\n",
      "Epoch 21/30\n",
      "127656/127656 [==============================] - 72s 561us/step - loss: 0.0398 - acc: 0.9847 - val_loss: 0.0409 - val_acc: 0.9843\n",
      "Epoch 22/30\n",
      "127656/127656 [==============================] - 67s 525us/step - loss: 0.0395 - acc: 0.9848 - val_loss: 0.0410 - val_acc: 0.9843\n",
      "Epoch 23/30\n",
      "127656/127656 [==============================] - 67s 524us/step - loss: 0.0396 - acc: 0.9847 - val_loss: 0.0410 - val_acc: 0.9840\n",
      "Epoch 24/30\n",
      "127656/127656 [==============================] - 67s 524us/step - loss: 0.0395 - acc: 0.9848 - val_loss: 0.0410 - val_acc: 0.9841\n",
      "Epoch 25/30\n",
      "127656/127656 [==============================] - 75s 585us/step - loss: 0.0390 - acc: 0.9849 - val_loss: 0.0409 - val_acc: 0.9843\n",
      "Epoch 26/30\n",
      "127656/127656 [==============================] - 73s 569us/step - loss: 0.0391 - acc: 0.9850 - val_loss: 0.0408 - val_acc: 0.9841\n",
      "Epoch 27/30\n",
      "127656/127656 [==============================] - 67s 524us/step - loss: 0.0390 - acc: 0.9849 - val_loss: 0.0409 - val_acc: 0.9842\n",
      "Epoch 28/30\n",
      "127656/127656 [==============================] - 67s 524us/step - loss: 0.0389 - acc: 0.9849 - val_loss: 0.0408 - val_acc: 0.9842\n",
      "Epoch 29/30\n",
      "127656/127656 [==============================] - 67s 524us/step - loss: 0.0389 - acc: 0.9849 - val_loss: 0.0409 - val_acc: 0.9842\n",
      "Epoch 30/30\n",
      "127656/127656 [==============================] - 67s 525us/step - loss: 0.0389 - acc: 0.9851 - val_loss: 0.0408 - val_acc: 0.9842\n"
     ]
    },
    {
     "data": {
      "text/plain": [
       "<keras.callbacks.History at 0x7fa15b090e48>"
      ]
     },
     "execution_count": 5,
     "metadata": {},
     "output_type": "execute_result"
    }
   ],
   "source": [
    "train_text = pd.read_csv('../data/data/source_1/train/train_data_1.csv')\n",
    "train_label = pd.read_csv('../data/data/source_1/train/train_labels_1.csv')\n",
    "valid_text = pd.read_csv('../data/data/source_1/train/test_data_1.csv')\n",
    "valid_label = pd.read_csv('../data/data/source_1/train/test_labels_1.csv')\n",
    "train_text, valid_text, embedding_matrix = dataflow(train_text, valid_text)\n",
    "\n",
    "params = {}\n",
    "params['x'] = train_text\n",
    "params['y'] = np.array(train_label.iloc[:,1:])\n",
    "params['validation_data'] = (valid_text, np.array(valid_label.iloc[:,1:]))\n",
    "params['batch_size'] = 256\n",
    "params['epochs'] = 30\n",
    "params['verbose'] = 1\n",
    "params['callbacks'] = callbacks(1)\n",
    "model = define_model(embedding_matrix)\n",
    "model.fit(**params)"
   ]
  },
  {
   "cell_type": "markdown",
   "metadata": {},
   "source": [
    "### data : fold - 2 "
   ]
  },
  {
   "cell_type": "code",
   "execution_count": 6,
   "metadata": {},
   "outputs": [
    {
     "name": "stdout",
     "output_type": "stream",
     "text": [
      "total words: 238589\n",
      "common words: 88118\n"
     ]
    },
    {
     "name": "stderr",
     "output_type": "stream",
     "text": [
      "/home/ubuntu/anaconda3/envs/tensorflow_p36/lib/python3.6/site-packages/ipykernel/__main__.py:16: UserWarning: The `merge` function is deprecated and will be removed after 08/2017. Use instead layers from `keras.layers.merge`, e.g. `add`, `concatenate`, etc.\n",
      "/home/ubuntu/anaconda3/envs/tensorflow_p36/lib/python3.6/site-packages/keras/legacy/layers.py:458: UserWarning: The `Merge` layer is deprecated and will be removed after 08/2017. Use instead layers from `keras.layers.merge`, e.g. `add`, `concatenate`, etc.\n",
      "  name=name)\n",
      "/home/ubuntu/anaconda3/envs/tensorflow_p36/lib/python3.6/site-packages/ipykernel/__main__.py:22: UserWarning: Update your `Model` call to the Keras 2 API: `Model(inputs=[<tf.Tenso..., outputs=Tensor(\"de...)`\n"
     ]
    },
    {
     "name": "stdout",
     "output_type": "stream",
     "text": [
      "Train on 127657 samples, validate on 31914 samples\n",
      "Epoch 1/30\n",
      "127657/127657 [==============================] - 68s 529us/step - loss: 0.1213 - acc: 0.9644 - val_loss: 0.0656 - val_acc: 0.9782\n",
      "Epoch 2/30\n",
      "127657/127657 [==============================] - 73s 570us/step - loss: 0.0557 - acc: 0.9799 - val_loss: 0.0496 - val_acc: 0.9817\n",
      "Epoch 3/30\n",
      "127657/127657 [==============================] - 73s 572us/step - loss: 0.0516 - acc: 0.9811 - val_loss: 0.0491 - val_acc: 0.9821\n",
      "Epoch 4/30\n",
      "127657/127657 [==============================] - 72s 568us/step - loss: 0.0494 - acc: 0.9818 - val_loss: 0.0461 - val_acc: 0.9826\n",
      "Epoch 5/30\n",
      "127657/127657 [==============================] - 73s 569us/step - loss: 0.0476 - acc: 0.9823 - val_loss: 0.0450 - val_acc: 0.9830\n",
      "Epoch 6/30\n",
      "127657/127657 [==============================] - 73s 573us/step - loss: 0.0466 - acc: 0.9826 - val_loss: 0.0444 - val_acc: 0.9830\n",
      "Epoch 7/30\n",
      "127657/127657 [==============================] - 73s 574us/step - loss: 0.0458 - acc: 0.9828 - val_loss: 0.0444 - val_acc: 0.9831\n",
      "Epoch 8/30\n",
      "127657/127657 [==============================] - 71s 559us/step - loss: 0.0449 - acc: 0.9829 - val_loss: 0.0438 - val_acc: 0.9833\n",
      "Epoch 9/30\n",
      "127657/127657 [==============================] - 67s 525us/step - loss: 0.0442 - acc: 0.9833 - val_loss: 0.0439 - val_acc: 0.9830\n",
      "Epoch 10/30\n",
      "127657/127657 [==============================] - 73s 574us/step - loss: 0.0436 - acc: 0.9836 - val_loss: 0.0437 - val_acc: 0.9834\n",
      "Epoch 11/30\n",
      "127657/127657 [==============================] - 73s 576us/step - loss: 0.0433 - acc: 0.9836 - val_loss: 0.0434 - val_acc: 0.9835\n",
      "Epoch 12/30\n",
      "127657/127657 [==============================] - 72s 562us/step - loss: 0.0429 - acc: 0.9837 - val_loss: 0.0430 - val_acc: 0.9834\n",
      "Epoch 13/30\n",
      "127657/127657 [==============================] - 67s 524us/step - loss: 0.0423 - acc: 0.9837 - val_loss: 0.0433 - val_acc: 0.9834\n",
      "Epoch 14/30\n",
      "127657/127657 [==============================] - 67s 525us/step - loss: 0.0420 - acc: 0.9839 - val_loss: 0.0442 - val_acc: 0.9836\n",
      "Epoch 15/30\n",
      "127657/127657 [==============================] - 73s 574us/step - loss: 0.0416 - acc: 0.9841 - val_loss: 0.0426 - val_acc: 0.9838\n",
      "Epoch 16/30\n",
      "127657/127657 [==============================] - 73s 571us/step - loss: 0.0414 - acc: 0.9842 - val_loss: 0.0424 - val_acc: 0.9839\n",
      "Epoch 17/30\n",
      "127657/127657 [==============================] - 67s 527us/step - loss: 0.0411 - acc: 0.9843 - val_loss: 0.0426 - val_acc: 0.9836\n",
      "Epoch 18/30\n",
      "127657/127657 [==============================] - 67s 525us/step - loss: 0.0406 - acc: 0.9844 - val_loss: 0.0424 - val_acc: 0.9841\n",
      "Epoch 19/30\n",
      "127657/127657 [==============================] - 67s 525us/step - loss: 0.0403 - acc: 0.9845 - val_loss: 0.0430 - val_acc: 0.9836\n",
      "Epoch 20/30\n",
      "127657/127657 [==============================] - 71s 558us/step - loss: 0.0389 - acc: 0.9850 - val_loss: 0.0423 - val_acc: 0.9840\n",
      "Epoch 21/30\n",
      "127657/127657 [==============================] - 67s 525us/step - loss: 0.0390 - acc: 0.9850 - val_loss: 0.0424 - val_acc: 0.9840\n",
      "Epoch 22/30\n",
      "127657/127657 [==============================] - 67s 525us/step - loss: 0.0387 - acc: 0.9851 - val_loss: 0.0423 - val_acc: 0.9840\n",
      "Epoch 23/30\n",
      "127657/127657 [==============================] - 67s 526us/step - loss: 0.0385 - acc: 0.9851 - val_loss: 0.0423 - val_acc: 0.9840\n",
      "Epoch 24/30\n",
      "127657/127657 [==============================] - 67s 525us/step - loss: 0.0383 - acc: 0.9852 - val_loss: 0.0423 - val_acc: 0.9840\n",
      "Epoch 25/30\n",
      "127657/127657 [==============================] - 67s 525us/step - loss: 0.0383 - acc: 0.9851 - val_loss: 0.0424 - val_acc: 0.9840\n"
     ]
    },
    {
     "data": {
      "text/plain": [
       "<keras.callbacks.History at 0x7fa150830cf8>"
      ]
     },
     "execution_count": 6,
     "metadata": {},
     "output_type": "execute_result"
    }
   ],
   "source": [
    "train_text = pd.read_csv('../data/data/source_1/train/train_data_2.csv')\n",
    "train_label = pd.read_csv('../data/data/source_1/train/train_labels_2.csv')\n",
    "valid_text = pd.read_csv('../data/data/source_1/train/test_data_2.csv')\n",
    "valid_label = pd.read_csv('../data/data/source_1/train/test_labels_2.csv')\n",
    "train_text, valid_text, embedding_matrix = dataflow(train_text, valid_text)\n",
    "\n",
    "params = {}\n",
    "params['x'] = train_text\n",
    "params['y'] = np.array(train_label.iloc[:,1:])\n",
    "params['validation_data'] = (valid_text, np.array(valid_label.iloc[:,1:]))\n",
    "params['batch_size'] = 256\n",
    "params['epochs'] = 30\n",
    "params['verbose'] = 1\n",
    "params['callbacks'] = callbacks(2)\n",
    "model = define_model(embedding_matrix)\n",
    "model.fit(**params)"
   ]
  },
  {
   "cell_type": "markdown",
   "metadata": {},
   "source": [
    "### data : fold - 3 "
   ]
  },
  {
   "cell_type": "code",
   "execution_count": 7,
   "metadata": {},
   "outputs": [
    {
     "name": "stdout",
     "output_type": "stream",
     "text": [
      "total words: 238589\n",
      "common words: 88118\n"
     ]
    },
    {
     "name": "stderr",
     "output_type": "stream",
     "text": [
      "/home/ubuntu/anaconda3/envs/tensorflow_p36/lib/python3.6/site-packages/ipykernel/__main__.py:16: UserWarning: The `merge` function is deprecated and will be removed after 08/2017. Use instead layers from `keras.layers.merge`, e.g. `add`, `concatenate`, etc.\n",
      "/home/ubuntu/anaconda3/envs/tensorflow_p36/lib/python3.6/site-packages/keras/legacy/layers.py:458: UserWarning: The `Merge` layer is deprecated and will be removed after 08/2017. Use instead layers from `keras.layers.merge`, e.g. `add`, `concatenate`, etc.\n",
      "  name=name)\n",
      "/home/ubuntu/anaconda3/envs/tensorflow_p36/lib/python3.6/site-packages/ipykernel/__main__.py:22: UserWarning: Update your `Model` call to the Keras 2 API: `Model(inputs=[<tf.Tenso..., outputs=Tensor(\"de...)`\n"
     ]
    },
    {
     "name": "stdout",
     "output_type": "stream",
     "text": [
      "Train on 127657 samples, validate on 31914 samples\n",
      "Epoch 1/30\n",
      "127657/127657 [==============================] - 68s 530us/step - loss: 0.1108 - acc: 0.9675 - val_loss: 0.0615 - val_acc: 0.9788\n",
      "Epoch 2/30\n",
      "127657/127657 [==============================] - 73s 572us/step - loss: 0.0534 - acc: 0.9807 - val_loss: 0.0492 - val_acc: 0.9816\n",
      "Epoch 3/30\n",
      "127657/127657 [==============================] - 73s 571us/step - loss: 0.0501 - acc: 0.9815 - val_loss: 0.0466 - val_acc: 0.9828\n",
      "Epoch 4/30\n",
      "127657/127657 [==============================] - 73s 570us/step - loss: 0.0480 - acc: 0.9821 - val_loss: 0.0455 - val_acc: 0.9829\n",
      "Epoch 5/30\n",
      "127657/127657 [==============================] - 74s 576us/step - loss: 0.0466 - acc: 0.9825 - val_loss: 0.0451 - val_acc: 0.9831\n",
      "Epoch 6/30\n",
      "127657/127657 [==============================] - 73s 574us/step - loss: 0.0457 - acc: 0.9828 - val_loss: 0.0443 - val_acc: 0.9832\n",
      "Epoch 7/30\n",
      "127657/127657 [==============================] - 72s 568us/step - loss: 0.0450 - acc: 0.9829 - val_loss: 0.0441 - val_acc: 0.9834\n",
      "Epoch 8/30\n",
      "127657/127657 [==============================] - 72s 566us/step - loss: 0.0443 - acc: 0.9831 - val_loss: 0.0439 - val_acc: 0.9834\n",
      "Epoch 9/30\n",
      "127657/127657 [==============================] - 73s 571us/step - loss: 0.0437 - acc: 0.9834 - val_loss: 0.0437 - val_acc: 0.9834\n",
      "Epoch 10/30\n",
      "127657/127657 [==============================] - 67s 526us/step - loss: 0.0434 - acc: 0.9835 - val_loss: 0.0442 - val_acc: 0.9833\n",
      "Epoch 11/30\n",
      "127657/127657 [==============================] - 67s 525us/step - loss: 0.0428 - acc: 0.9836 - val_loss: 0.0447 - val_acc: 0.9832\n",
      "Epoch 12/30\n",
      "127657/127657 [==============================] - 71s 555us/step - loss: 0.0423 - acc: 0.9839 - val_loss: 0.0435 - val_acc: 0.9836\n",
      "Epoch 13/30\n",
      "127657/127657 [==============================] - 67s 526us/step - loss: 0.0419 - acc: 0.9839 - val_loss: 0.0449 - val_acc: 0.9828\n",
      "Epoch 14/30\n",
      "127657/127657 [==============================] - 72s 568us/step - loss: 0.0414 - acc: 0.9840 - val_loss: 0.0432 - val_acc: 0.9836\n",
      "Epoch 15/30\n",
      "127657/127657 [==============================] - 73s 573us/step - loss: 0.0410 - acc: 0.9843 - val_loss: 0.0430 - val_acc: 0.9839\n",
      "Epoch 16/30\n",
      "127657/127657 [==============================] - 67s 526us/step - loss: 0.0408 - acc: 0.9844 - val_loss: 0.0432 - val_acc: 0.9836\n",
      "Epoch 17/30\n",
      "127657/127657 [==============================] - 67s 526us/step - loss: 0.0406 - acc: 0.9844 - val_loss: 0.0439 - val_acc: 0.9833\n",
      "Epoch 18/30\n",
      "127657/127657 [==============================] - 67s 526us/step - loss: 0.0401 - acc: 0.9844 - val_loss: 0.0435 - val_acc: 0.9836\n",
      "Epoch 19/30\n",
      "127657/127657 [==============================] - 71s 559us/step - loss: 0.0389 - acc: 0.9849 - val_loss: 0.0426 - val_acc: 0.9838\n",
      "Epoch 20/30\n",
      "127657/127657 [==============================] - 67s 526us/step - loss: 0.0389 - acc: 0.9849 - val_loss: 0.0428 - val_acc: 0.9839\n",
      "Epoch 21/30\n",
      "127657/127657 [==============================] - 67s 525us/step - loss: 0.0385 - acc: 0.9851 - val_loss: 0.0433 - val_acc: 0.9836\n",
      "Epoch 22/30\n",
      "127657/127657 [==============================] - 67s 525us/step - loss: 0.0383 - acc: 0.9850 - val_loss: 0.0427 - val_acc: 0.9838\n",
      "Epoch 23/30\n",
      "127657/127657 [==============================] - 67s 526us/step - loss: 0.0381 - acc: 0.9852 - val_loss: 0.0427 - val_acc: 0.9839\n",
      "Epoch 24/30\n",
      "127657/127657 [==============================] - 67s 525us/step - loss: 0.0382 - acc: 0.9852 - val_loss: 0.0428 - val_acc: 0.9838\n"
     ]
    },
    {
     "data": {
      "text/plain": [
       "<keras.callbacks.History at 0x7fa155635ba8>"
      ]
     },
     "execution_count": 7,
     "metadata": {},
     "output_type": "execute_result"
    }
   ],
   "source": [
    "train_text = pd.read_csv('../data/data/source_1/train/train_data_3.csv')\n",
    "train_label = pd.read_csv('../data/data/source_1/train/train_labels_3.csv')\n",
    "valid_text = pd.read_csv('../data/data/source_1/train/test_data_3.csv')\n",
    "valid_label = pd.read_csv('../data/data/source_1/train/test_labels_3.csv')\n",
    "train_text, valid_text, embedding_matrix = dataflow(train_text, valid_text)\n",
    "\n",
    "params = {}\n",
    "params['x'] = train_text\n",
    "params['y'] = np.array(train_label.iloc[:,1:])\n",
    "params['validation_data'] = (valid_text, np.array(valid_label.iloc[:,1:]))\n",
    "params['batch_size'] = 256\n",
    "params['epochs'] = 30\n",
    "params['verbose'] = 1\n",
    "params['callbacks'] = callbacks(3)\n",
    "model = define_model(embedding_matrix)\n",
    "model.fit(**params)"
   ]
  },
  {
   "cell_type": "markdown",
   "metadata": {},
   "source": [
    "### data : fold - 4"
   ]
  },
  {
   "cell_type": "code",
   "execution_count": 8,
   "metadata": {},
   "outputs": [
    {
     "name": "stdout",
     "output_type": "stream",
     "text": [
      "total words: 238589\n",
      "common words: 88118\n"
     ]
    },
    {
     "name": "stderr",
     "output_type": "stream",
     "text": [
      "/home/ubuntu/anaconda3/envs/tensorflow_p36/lib/python3.6/site-packages/ipykernel/__main__.py:16: UserWarning: The `merge` function is deprecated and will be removed after 08/2017. Use instead layers from `keras.layers.merge`, e.g. `add`, `concatenate`, etc.\n",
      "/home/ubuntu/anaconda3/envs/tensorflow_p36/lib/python3.6/site-packages/keras/legacy/layers.py:458: UserWarning: The `Merge` layer is deprecated and will be removed after 08/2017. Use instead layers from `keras.layers.merge`, e.g. `add`, `concatenate`, etc.\n",
      "  name=name)\n",
      "/home/ubuntu/anaconda3/envs/tensorflow_p36/lib/python3.6/site-packages/ipykernel/__main__.py:22: UserWarning: Update your `Model` call to the Keras 2 API: `Model(inputs=[<tf.Tenso..., outputs=Tensor(\"de...)`\n"
     ]
    },
    {
     "name": "stdout",
     "output_type": "stream",
     "text": [
      "Train on 127657 samples, validate on 31914 samples\n",
      "Epoch 1/30\n",
      "127657/127657 [==============================] - 68s 532us/step - loss: 0.1047 - acc: 0.9699 - val_loss: 0.0557 - val_acc: 0.9794\n",
      "Epoch 2/30\n",
      "127657/127657 [==============================] - 73s 572us/step - loss: 0.0527 - acc: 0.9808 - val_loss: 0.0471 - val_acc: 0.9820\n",
      "Epoch 3/30\n",
      "127657/127657 [==============================] - 71s 559us/step - loss: 0.0494 - acc: 0.9818 - val_loss: 0.0459 - val_acc: 0.9825\n",
      "Epoch 4/30\n",
      "127657/127657 [==============================] - 73s 570us/step - loss: 0.0478 - acc: 0.9822 - val_loss: 0.0454 - val_acc: 0.9826\n",
      "Epoch 5/30\n",
      "127657/127657 [==============================] - 73s 572us/step - loss: 0.0465 - acc: 0.9825 - val_loss: 0.0442 - val_acc: 0.9831\n",
      "Epoch 6/30\n",
      "127657/127657 [==============================] - 71s 553us/step - loss: 0.0459 - acc: 0.9828 - val_loss: 0.0438 - val_acc: 0.9834\n",
      "Epoch 7/30\n",
      "127657/127657 [==============================] - 67s 525us/step - loss: 0.0451 - acc: 0.9831 - val_loss: 0.0449 - val_acc: 0.9828\n",
      "Epoch 8/30\n",
      "127657/127657 [==============================] - 72s 566us/step - loss: 0.0445 - acc: 0.9832 - val_loss: 0.0433 - val_acc: 0.9836\n",
      "Epoch 9/30\n",
      "127657/127657 [==============================] - 72s 568us/step - loss: 0.0439 - acc: 0.9833 - val_loss: 0.0432 - val_acc: 0.9835\n",
      "Epoch 10/30\n",
      "127657/127657 [==============================] - 73s 569us/step - loss: 0.0432 - acc: 0.9836 - val_loss: 0.0425 - val_acc: 0.9839\n",
      "Epoch 11/30\n",
      "127657/127657 [==============================] - 73s 568us/step - loss: 0.0431 - acc: 0.9836 - val_loss: 0.0423 - val_acc: 0.9837\n",
      "Epoch 12/30\n",
      "127657/127657 [==============================] - 67s 525us/step - loss: 0.0427 - acc: 0.9837 - val_loss: 0.0440 - val_acc: 0.9832\n",
      "Epoch 13/30\n",
      "127657/127657 [==============================] - 67s 526us/step - loss: 0.0421 - acc: 0.9839 - val_loss: 0.0430 - val_acc: 0.9835\n",
      "Epoch 14/30\n",
      "127657/127657 [==============================] - 67s 527us/step - loss: 0.0418 - acc: 0.9840 - val_loss: 0.0427 - val_acc: 0.9837\n",
      "Epoch 15/30\n",
      "127657/127657 [==============================] - 67s 525us/step - loss: 0.0406 - acc: 0.9843 - val_loss: 0.0424 - val_acc: 0.9838\n",
      "Epoch 16/30\n",
      "127657/127657 [==============================] - 73s 570us/step - loss: 0.0404 - acc: 0.9844 - val_loss: 0.0419 - val_acc: 0.9838\n",
      "Epoch 17/30\n",
      "127657/127657 [==============================] - 67s 526us/step - loss: 0.0401 - acc: 0.9845 - val_loss: 0.0420 - val_acc: 0.9837\n",
      "Epoch 18/30\n",
      "127657/127657 [==============================] - 67s 525us/step - loss: 0.0399 - acc: 0.9847 - val_loss: 0.0419 - val_acc: 0.9839\n",
      "Epoch 19/30\n",
      "127657/127657 [==============================] - 67s 525us/step - loss: 0.0398 - acc: 0.9846 - val_loss: 0.0421 - val_acc: 0.9838\n",
      "Epoch 20/30\n",
      "127657/127657 [==============================] - 67s 525us/step - loss: 0.0395 - acc: 0.9848 - val_loss: 0.0420 - val_acc: 0.9839\n",
      "Epoch 21/30\n",
      "127657/127657 [==============================] - 67s 525us/step - loss: 0.0396 - acc: 0.9847 - val_loss: 0.0420 - val_acc: 0.9839\n"
     ]
    },
    {
     "data": {
      "text/plain": [
       "<keras.callbacks.History at 0x7fa144d6eb70>"
      ]
     },
     "execution_count": 8,
     "metadata": {},
     "output_type": "execute_result"
    }
   ],
   "source": [
    "train_text = pd.read_csv('../data/data/source_1/train/train_data_4.csv')\n",
    "train_label = pd.read_csv('../data/data/source_1/train/train_labels_4.csv')\n",
    "valid_text = pd.read_csv('../data/data/source_1/train/test_data_4.csv')\n",
    "valid_label = pd.read_csv('../data/data/source_1/train/test_labels_4.csv')\n",
    "train_text, valid_text, embedding_matrix = dataflow(train_text, valid_text)\n",
    "\n",
    "params = {}\n",
    "params['x'] = train_text\n",
    "params['y'] = np.array(train_label.iloc[:,1:])\n",
    "params['validation_data'] = (valid_text, np.array(valid_label.iloc[:,1:]))\n",
    "params['batch_size'] = 256\n",
    "params['epochs'] = 30\n",
    "params['verbose'] = 1\n",
    "params['callbacks'] = callbacks(4)\n",
    "model = define_model(embedding_matrix)\n",
    "model.fit(**params)"
   ]
  },
  {
   "cell_type": "markdown",
   "metadata": {},
   "source": [
    "### data : fold - 5"
   ]
  },
  {
   "cell_type": "code",
   "execution_count": 9,
   "metadata": {},
   "outputs": [
    {
     "name": "stdout",
     "output_type": "stream",
     "text": [
      "total words: 238589\n",
      "common words: 88118\n"
     ]
    },
    {
     "name": "stderr",
     "output_type": "stream",
     "text": [
      "/home/ubuntu/anaconda3/envs/tensorflow_p36/lib/python3.6/site-packages/ipykernel/__main__.py:16: UserWarning: The `merge` function is deprecated and will be removed after 08/2017. Use instead layers from `keras.layers.merge`, e.g. `add`, `concatenate`, etc.\n",
      "/home/ubuntu/anaconda3/envs/tensorflow_p36/lib/python3.6/site-packages/keras/legacy/layers.py:458: UserWarning: The `Merge` layer is deprecated and will be removed after 08/2017. Use instead layers from `keras.layers.merge`, e.g. `add`, `concatenate`, etc.\n",
      "  name=name)\n",
      "/home/ubuntu/anaconda3/envs/tensorflow_p36/lib/python3.6/site-packages/ipykernel/__main__.py:22: UserWarning: Update your `Model` call to the Keras 2 API: `Model(inputs=[<tf.Tenso..., outputs=Tensor(\"de...)`\n"
     ]
    },
    {
     "name": "stdout",
     "output_type": "stream",
     "text": [
      "Train on 127657 samples, validate on 31914 samples\n",
      "Epoch 1/30\n",
      "127657/127657 [==============================] - 68s 532us/step - loss: 0.1082 - acc: 0.9681 - val_loss: 0.0656 - val_acc: 0.9768\n",
      "Epoch 2/30\n",
      "127657/127657 [==============================] - 73s 572us/step - loss: 0.0532 - acc: 0.9807 - val_loss: 0.0500 - val_acc: 0.9813\n",
      "Epoch 3/30\n",
      "127657/127657 [==============================] - 72s 563us/step - loss: 0.0496 - acc: 0.9816 - val_loss: 0.0488 - val_acc: 0.9820\n",
      "Epoch 4/30\n",
      "127657/127657 [==============================] - 73s 569us/step - loss: 0.0475 - acc: 0.9822 - val_loss: 0.0468 - val_acc: 0.9825\n",
      "Epoch 5/30\n",
      "127657/127657 [==============================] - 73s 571us/step - loss: 0.0460 - acc: 0.9827 - val_loss: 0.0460 - val_acc: 0.9827\n",
      "Epoch 6/30\n",
      "127657/127657 [==============================] - 67s 525us/step - loss: 0.0453 - acc: 0.9830 - val_loss: 0.0469 - val_acc: 0.9827\n",
      "Epoch 7/30\n",
      "127657/127657 [==============================] - 67s 525us/step - loss: 0.0445 - acc: 0.9833 - val_loss: 0.0467 - val_acc: 0.9827\n",
      "Epoch 8/30\n",
      "127657/127657 [==============================] - 72s 567us/step - loss: 0.0438 - acc: 0.9834 - val_loss: 0.0453 - val_acc: 0.9829\n",
      "Epoch 9/30\n",
      "127657/127657 [==============================] - 67s 525us/step - loss: 0.0433 - acc: 0.9835 - val_loss: 0.0454 - val_acc: 0.9827\n",
      "Epoch 10/30\n",
      "127657/127657 [==============================] - 72s 563us/step - loss: 0.0429 - acc: 0.9837 - val_loss: 0.0450 - val_acc: 0.9830\n",
      "Epoch 11/30\n",
      "127657/127657 [==============================] - 67s 526us/step - loss: 0.0423 - acc: 0.9840 - val_loss: 0.0453 - val_acc: 0.9831\n",
      "Epoch 12/30\n",
      "127657/127657 [==============================] - 67s 525us/step - loss: 0.0418 - acc: 0.9839 - val_loss: 0.0460 - val_acc: 0.9832\n",
      "Epoch 13/30\n",
      "127657/127657 [==============================] - 67s 527us/step - loss: 0.0415 - acc: 0.9841 - val_loss: 0.0451 - val_acc: 0.9832\n",
      "Epoch 14/30\n",
      "127657/127657 [==============================] - 73s 569us/step - loss: 0.0405 - acc: 0.9844 - val_loss: 0.0444 - val_acc: 0.9834\n",
      "Epoch 15/30\n",
      "127657/127657 [==============================] - 73s 572us/step - loss: 0.0401 - acc: 0.9845 - val_loss: 0.0444 - val_acc: 0.9832\n",
      "Epoch 16/30\n",
      "127657/127657 [==============================] - 67s 525us/step - loss: 0.0397 - acc: 0.9846 - val_loss: 0.0444 - val_acc: 0.9834\n",
      "Epoch 17/30\n",
      "127657/127657 [==============================] - 67s 525us/step - loss: 0.0397 - acc: 0.9847 - val_loss: 0.0448 - val_acc: 0.9831\n",
      "Epoch 18/30\n",
      "127657/127657 [==============================] - 67s 525us/step - loss: 0.0395 - acc: 0.9847 - val_loss: 0.0445 - val_acc: 0.9833\n",
      "Epoch 19/30\n",
      "127657/127657 [==============================] - 72s 563us/step - loss: 0.0391 - acc: 0.9848 - val_loss: 0.0443 - val_acc: 0.9834\n",
      "Epoch 20/30\n",
      "127657/127657 [==============================] - 73s 568us/step - loss: 0.0393 - acc: 0.9849 - val_loss: 0.0442 - val_acc: 0.9835\n",
      "Epoch 21/30\n",
      "127657/127657 [==============================] - 67s 526us/step - loss: 0.0392 - acc: 0.9849 - val_loss: 0.0442 - val_acc: 0.9835\n",
      "Epoch 22/30\n",
      "127657/127657 [==============================] - 67s 525us/step - loss: 0.0393 - acc: 0.9849 - val_loss: 0.0443 - val_acc: 0.9834\n",
      "Epoch 23/30\n",
      "127657/127657 [==============================] - 67s 525us/step - loss: 0.0391 - acc: 0.9848 - val_loss: 0.0443 - val_acc: 0.9835\n",
      "Epoch 24/30\n",
      "127657/127657 [==============================] - 67s 525us/step - loss: 0.0389 - acc: 0.9849 - val_loss: 0.0443 - val_acc: 0.9835\n",
      "Epoch 25/30\n",
      "127657/127657 [==============================] - 67s 525us/step - loss: 0.0390 - acc: 0.9849 - val_loss: 0.0443 - val_acc: 0.9835\n"
     ]
    },
    {
     "data": {
      "text/plain": [
       "<keras.callbacks.History at 0x7fa13df5bb00>"
      ]
     },
     "execution_count": 9,
     "metadata": {},
     "output_type": "execute_result"
    }
   ],
   "source": [
    "train_text = pd.read_csv('../data/data/source_1/train/train_data_5.csv')\n",
    "train_label = pd.read_csv('../data/data/source_1/train/train_labels_5.csv')\n",
    "valid_text = pd.read_csv('../data/data/source_1/train/test_data_5.csv')\n",
    "valid_label = pd.read_csv('../data/data/source_1/train/test_labels_5.csv')\n",
    "train_text, valid_text, embedding_matrix = dataflow(train_text, valid_text)\n",
    "\n",
    "params = {}\n",
    "params['x'] = train_text\n",
    "params['y'] = np.array(train_label.iloc[:,1:])\n",
    "params['validation_data'] = (valid_text, np.array(valid_label.iloc[:,1:]))\n",
    "params['batch_size'] = 256\n",
    "params['epochs'] = 30\n",
    "params['verbose'] = 1\n",
    "params['callbacks'] = callbacks(5)\n",
    "model = define_model(embedding_matrix)\n",
    "model.fit(**params)"
   ]
  },
  {
   "cell_type": "code",
   "execution_count": null,
   "metadata": {},
   "outputs": [],
   "source": []
  }
 ],
 "metadata": {
  "kernelspec": {
   "display_name": "Environment (conda_tensorflow_p36)",
   "language": "python",
   "name": "conda_tensorflow_p36"
  },
  "language_info": {
   "codemirror_mode": {
    "name": "ipython",
    "version": 3
   },
   "file_extension": ".py",
   "mimetype": "text/x-python",
   "name": "python",
   "nbconvert_exporter": "python",
   "pygments_lexer": "ipython3",
   "version": "3.6.3"
  }
 },
 "nbformat": 4,
 "nbformat_minor": 2
}
